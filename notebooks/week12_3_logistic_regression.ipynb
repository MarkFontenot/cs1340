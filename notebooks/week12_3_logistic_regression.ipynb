{
 "cells": [
  {
   "cell_type": "markdown",
   "metadata": {},
   "source": [
    "#  Logisitc regression (classification model)"
   ]
  },
  {
   "cell_type": "markdown",
   "metadata": {},
   "source": [
    "In machine learning and statistics classification is a problem of identifying to which of a set of categories a new observation belongs to based on the training data.\n",
    "\n",
    "Some examples of classification problems include:\n",
    "\n",
    "- To check a Spam vs “Ham” email\n",
    "- Diagnosis of a disease eg. To tell if someone has cancer or not\n",
    "- Malware detection(yes/no)\n",
    "\n",
    "These all are examples of binary classification meaning we have two classes."
   ]
  },
  {
   "cell_type": "markdown",
   "metadata": {},
   "source": [
    "So far we have only seen regression problems where we try to predict a continuous value such as the price of the house by drawing a straight line curve. Using logistic regression we can solve classification problems where we are trying to predict discrete values. The convention for binary classification is to have two classes 0 and 1"
   ]
  },
  {
   "cell_type": "markdown",
   "metadata": {},
   "source": [
    "We can’t use a normal linear regression model on binary groups, it won’t lead to a good fit…"
   ]
  },
  {
   "cell_type": "markdown",
   "metadata": {},
   "source": [
    "<img src='./images/logistic_1.jpeg' width=\"500\">\n",
    "\n",
    "[image source] https://medium.com/@anishsingh20/logistic-regression-in-python-423c8d32838b"
   ]
  },
  {
   "cell_type": "markdown",
   "metadata": {},
   "source": [
    "Instead, we can transform are linear regression curve to a logistic regression curve because our linear regression curve won’t fit our binary group models properly and you can see our logistic regression curve can only go between 0 and 1and that is gonna be the key to understand classification using logistic regression curve."
   ]
  },
  {
   "cell_type": "markdown",
   "metadata": {},
   "source": [
    "<img src='./images/logistic_2.png' width=\"800\">\n",
    "\n",
    "[image source] https://medium.com/@anishsingh20/logistic-regression-in-python-423c8d32838b"
   ]
  },
  {
   "cell_type": "markdown",
   "metadata": {},
   "source": [
    "# Sigmoid Function"
   ]
  },
  {
   "cell_type": "markdown",
   "metadata": {},
   "source": [
    "The sigmoid function also known as the logistic function is going to be the **key** to using logistic regression to perform classification"
   ]
  },
  {
   "cell_type": "markdown",
   "metadata": {},
   "source": [
    "## $\\phi(z) = \\frac{1}{1 + e^{-z}}$"
   ]
  },
  {
   "cell_type": "markdown",
   "metadata": {},
   "source": [
    "The key thing to notice here is that it doesn’t matter what value of z you put into the logistics or the sigmoid function **you’ll always get a value between 0 and 1.**"
   ]
  },
  {
   "cell_type": "markdown",
   "metadata": {},
   "source": [
    "<img src='./images/logistic_3.png' width=\"600\">\n",
    "\n",
    "[image source] https://medium.com/@anishsingh20/logistic-regression-in-python-423c8d32838b"
   ]
  },
  {
   "cell_type": "markdown",
   "metadata": {},
   "source": [
    "We can take our linear regression solution and place it into the sigmoid function and it looks something like this:"
   ]
  },
  {
   "cell_type": "markdown",
   "metadata": {},
   "source": [
    "<img src='./images/logistic_4.png' width=\"800\">\n",
    "\n",
    "[image source] https://medium.com/@anishsingh20/logistic-regression-in-python-423c8d32838b"
   ]
  },
  {
   "cell_type": "markdown",
   "metadata": {},
   "source": [
    "**If you take that linear model and place it into a sigmoid function then we are finally able to transform linear regression to logistic model meaning it doesn’t matter whatever the value of linear model output actually is it’s always going to be between 0and 1when you place it into the sigmoid function.**"
   ]
  },
  {
   "cell_type": "markdown",
   "metadata": {},
   "source": [
    "This results in a probability from 0 to 1belonging in class 1."
   ]
  },
  {
   "cell_type": "markdown",
   "metadata": {},
   "source": [
    "<img src='./images/logistic_5.png' width=\"800\">\n",
    "\n",
    "[image source] https://medium.com/@anishsingh20/logistic-regression-in-python-423c8d32838b"
   ]
  },
  {
   "cell_type": "markdown",
   "metadata": {},
   "source": [
    "We can set a cutoff point at 0.5 and we can say anything below 0.5 results in class 0 and anything above 0.5 belongs to class 1."
   ]
  },
  {
   "cell_type": "markdown",
   "metadata": {},
   "source": [
    "<img src='./images/logistic_6.png' width=\"800\">\n",
    "\n",
    "[image source] https://medium.com/@anishsingh20/logistic-regression-in-python-423c8d32838b"
   ]
  },
  {
   "cell_type": "code",
   "execution_count": null,
   "metadata": {},
   "outputs": [],
   "source": []
  }
 ],
 "metadata": {
  "kernelspec": {
   "display_name": "Python 3",
   "language": "python",
   "name": "python3"
  },
  "language_info": {
   "codemirror_mode": {
    "name": "ipython",
    "version": 3
   },
   "file_extension": ".py",
   "mimetype": "text/x-python",
   "name": "python",
   "nbconvert_exporter": "python",
   "pygments_lexer": "ipython3",
   "version": "3.7.3"
  }
 },
 "nbformat": 4,
 "nbformat_minor": 2
}
