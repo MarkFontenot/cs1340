{
 "cells": [
  {
   "cell_type": "markdown",
   "metadata": {},
   "source": [
    "# Four components of Machine Learning: \n",
    "\n",
    "    - Dataset \n",
    "    - model\n",
    "    - cost function\n",
    "    - learning algorithm (optimization)"
   ]
  },
  {
   "cell_type": "markdown",
   "metadata": {},
   "source": [
    "# Linear Regression\n",
    "Linear Regression is usually the first machine learning algorithm that every data scientist comes across. It is a simple model but everyone needs to master it as it lays the foundation for other machine learning algorithms."
   ]
  },
  {
   "cell_type": "markdown",
   "metadata": {},
   "source": [
    "<img src='./images/linear_1.png' width=\"500\">"
   ]
  },
  {
   "cell_type": "code",
   "execution_count": null,
   "metadata": {},
   "outputs": [],
   "source": [
    "y = ax + b"
   ]
  },
  {
   "cell_type": "markdown",
   "metadata": {},
   "source": [
    "###  Where can Linear Regression be used?\n",
    "\n",
    "It is a very powerful technique and can be used to understand the factors that influence profitability. It can be used to forecast sales in the coming months by analyzing the sales data for previous months. It can also be used to gain various insights about customer behaviour. By the end of the blog we will build a model which looks like the below picture i.e, determine a line which best fits the data."
   ]
  },
  {
   "cell_type": "markdown",
   "metadata": {},
   "source": [
    "### Table of Contents\n",
    "\n",
    "    - What is Linear Regression\n",
    "    - Hypothesis of Linear Regression\n",
    "    - Training a Linear Regression model\n",
    "    - Evaluating the model\n",
    "    - scikit-learn implementation"
   ]
  },
  {
   "cell_type": "markdown",
   "metadata": {},
   "source": [
    "### What is Linear Regression"
   ]
  },
  {
   "cell_type": "markdown",
   "metadata": {},
   "source": [
    "The objective of a linear regression model is to find a relationship between one or more features(independent variables) and a continuous target variable(dependent variable). When there is only feature it is called Uni-variate Linear Regression and if there are multiple features, it is called Multiple Linear Regression."
   ]
  },
  {
   "cell_type": "markdown",
   "metadata": {},
   "source": [
    "### Hypothesis of Linear Regression"
   ]
  },
  {
   "cell_type": "markdown",
   "metadata": {},
   "source": [
    "The linear regression model can be represented by the following equation: \n",
    "\n",
    "$y = \\theta_0 + \\theta_1 x_1 + \\theta_2 x_2 + ... + \\theta_n x_n$ \n",
    "\n",
    " - y is the predicted value\n",
    " - $\\theta_0, \\theta_1, \\theta_2, ... \\theta_n$ are the model parameters ($\\theta_0$ is also called the bias)\n",
    " - $x_1, x_2, ..., x_n$ are feature values"
   ]
  },
  {
   "cell_type": "markdown",
   "metadata": {},
   "source": [
    "The above equation could also be compactly represented by ($x_0 = 1$):\n",
    "\n",
    "$y = \\theta^Tx $\n"
   ]
  },
  {
   "cell_type": "markdown",
   "metadata": {},
   "source": [
    "### Dataset\n",
    "Let’s create some random data-set to train our model."
   ]
  },
  {
   "cell_type": "code",
   "execution_count": 24,
   "metadata": {},
   "outputs": [
    {
     "data": {
      "text/plain": [
       "Text(0, 0.5, 'y')"
      ]
     },
     "execution_count": 24,
     "metadata": {},
     "output_type": "execute_result"
    },
    {
     "data": {
      "image/png": "[encoded data removed]",
      "text/plain": [
       "<Figure size 432x288 with 1 Axes>"
      ]
     },
     "metadata": {},
     "output_type": "display_data"
    }
   ],
   "source": [
    "# imports\n",
    "import numpy as np\n",
    "import matplotlib.pyplot as plt\n",
    "%matplotlib inline\n",
    "\n",
    "# generate random data-set\n",
    "np.random.seed(0)\n",
    "x = np.random.rand(100, 1)\n",
    "y = 2 + 3 * x + np.random.rand(100, 1)\n",
    "\n",
    "# plot\n",
    "plt.scatter(x,y,s=10)\n",
    "plt.xlabel('x')\n",
    "plt.ylabel('y')"
   ]
  },
  {
   "cell_type": "markdown",
   "metadata": {},
   "source": [
    "### Training a Linear Regression Model\n",
    "Training of the model here means to find the parameters so that the model best fits the data."
   ]
  },
  {
   "cell_type": "markdown",
   "metadata": {},
   "source": [
    "#### How do we determine the best fit line?"
   ]
  },
  {
   "cell_type": "markdown",
   "metadata": {},
   "source": [
    "The line for which the the error between the predicted values and the observed values is minimum is called the best fit line or the regression line. These errors are also called as residuals. The residuals can be visualized by the vertical lines from the observed data value to the regression line."
   ]
  },
  {
   "cell_type": "markdown",
   "metadata": {},
   "source": [
    "<img src='./images/linear_2.png' width=\"500\">\n",
    "[image source] http://wiki.engageeducation.org.au/further-maths/data-analysis/residuals/"
   ]
  },
  {
   "cell_type": "markdown",
   "metadata": {},
   "source": [
    "To define and measure the error of our model we define the **cost function** as the sum of the squares of the residuals. The cost function is denoted by: "
   ]
  },
  {
   "cell_type": "markdown",
   "metadata": {},
   "source": [
    "###  $J(\\theta) = \\frac{1}{2N}\\sum\\limits_{i=1}^N(h(x^i) - y^i)^2$"
   ]
  },
  {
   "cell_type": "markdown",
   "metadata": {},
   "source": [
    "where the hypothesis function $h(x)$ is denoted by:\n",
    "$h(x) = \\theta_0 + \\theta_1 x_1 + \\theta_2 x_2 + ... + \\theta_n x_n$  and N is the total number of training examples in our data-set."
   ]
  },
  {
   "cell_type": "markdown",
   "metadata": {},
   "source": [
    "*Why do we take the square of the residuals and not the absolute value of the residuals ? We want to penalize the points which are farther from the regression line much more than the points which lie close to the line.*"
   ]
  },
  {
   "cell_type": "markdown",
   "metadata": {},
   "source": [
    "**Our objective** is to find the model parameters so that the cost function is minimum. We will use Gradient Descent to find this."
   ]
  },
  {
   "cell_type": "markdown",
   "metadata": {},
   "source": [
    "### Gradient Descent (optional)"
   ]
  },
  {
   "cell_type": "markdown",
   "metadata": {},
   "source": [
    "Gradient descent is a generic optimization algorithm used in many machine learning algorithms. It iteratively tweaks the parameters of the model in order to minimize the cost function. The steps of gradient descent is outlined below."
   ]
  },
  {
   "cell_type": "markdown",
   "metadata": {},
   "source": [
    "1. We first initialize the model parameters with some random values. This is also called as random initialization.\n",
    "2. Now we need to measure how the cost function changes with change in it’s parameters. Therefore we compute the partial derivatives of the cost function w.r.t to the parameters $\\theta_0, \\theta_1, ... \\theta_n$\n",
    "\n",
    "    $\\frac{\\partial J(\\theta)}{\\partial \\theta_0} = \\frac{1}{N}\\sum\\limits_{i=1}^N(h(x^i) - y^i)$\n",
    "\n",
    "    $\\frac{\\partial J(\\theta)}{\\partial \\theta_1} = \\frac{1}{N}\\sum\\limits_{i=1}^N(h(x^i) - y^i)x_1^i$\n",
    "\n",
    "    similarly, the partial derivative of the cost function w.r.t to any parameter can be denoted by\n",
    "\n",
    "    $\\frac{\\partial J(\\theta)}{\\partial \\theta_j} = \\frac{1}{N}\\sum\\limits_{i=1}^N(h(x^i) - y^i)x_j^i$\n",
    "    \n",
    "3. After computing the derivative we update the parameters as given below\n",
    "\n",
    "    $\\theta_0 = \\theta_0 - \\frac{\\alpha}{N}\\sum\\limits_{i=1}^N(h(x^i) - y^i)$\n",
    "    \n",
    "    $\\theta_1 = \\theta_1 - \\frac{\\alpha}{N}\\sum\\limits_{i=1}^N(h(x^i) - y^i)x_1^i$\n",
    "    \n",
    "    .\n",
    "    .\n",
    "    .\n",
    "    \n",
    "    where $\\alpha$ is the learning rate\n",
    "    \n",
    "\n",
    "    \n",
    "    "
   ]
  },
  {
   "cell_type": "markdown",
   "metadata": {},
   "source": [
    "We repeat the steps 2,3 until the cost function converges to the minimum value. If the value of α is too small, the cost function takes larger time to converge. If α is too large, gradient descent may overshoot the minimum and may finally fail to converge."
   ]
  },
  {
   "cell_type": "markdown",
   "metadata": {},
   "source": [
    "<img src='./images/linear_3.png' width=\"500\">\n",
    "[image source] Andrew Ng’s course on Coursera"
   ]
  },
  {
   "cell_type": "markdown",
   "metadata": {},
   "source": [
    "To demonstrate the gradient descent algorithm, we initialize the model parameters with 0. The equation becomes Y = 0. Gradient descent algorithm now tries to update the value of the parameters so that we arrive at the best fit line."
   ]
  },
  {
   "cell_type": "markdown",
   "metadata": {},
   "source": [
    "When the learning rate is very slow, the gradient descent takes larger time to find the best fit line."
   ]
  },
  {
   "cell_type": "markdown",
   "metadata": {},
   "source": [
    "<img src='./images/linear_4.gif' width=\"500\">"
   ]
  },
  {
   "cell_type": "markdown",
   "metadata": {},
   "source": [
    "When the learning rate is normal"
   ]
  },
  {
   "cell_type": "markdown",
   "metadata": {},
   "source": [
    "<img src='./images/linear_5.gif' width=\"500\">"
   ]
  },
  {
   "cell_type": "markdown",
   "metadata": {},
   "source": [
    "When the learning rate is arbitrarily high, gradient descent algorithm keeps overshooting the best fit line and may even fail to find the best line."
   ]
  },
  {
   "cell_type": "markdown",
   "metadata": {},
   "source": [
    "<img src='./images/linear_6.gif' width=\"500\">"
   ]
  },
  {
   "cell_type": "markdown",
   "metadata": {},
   "source": [
    "### Implementing Linear Regression from scratch (optional)"
   ]
  },
  {
   "cell_type": "markdown",
   "metadata": {},
   "source": [
    "The complete implementation of linear regression with gradient descent is given below."
   ]
  },
  {
   "cell_type": "code",
   "execution_count": 19,
   "metadata": {},
   "outputs": [],
   "source": [
    "# imports\n",
    "import numpy as np\n",
    "\n",
    "class LinearRegressionUsingGD:\n",
    "    \"\"\"Linear Regression Using Gradient Descent.\n",
    "    Parameters\n",
    "    ----------\n",
    "    eta : float\n",
    "        Learning rate\n",
    "    n_iterations : int\n",
    "        No of passes over the training set\n",
    "    Attributes\n",
    "    ----------\n",
    "    w_ : weights/ after fitting the model\n",
    "    cost_ : total error of the model after each iteration\n",
    "    \"\"\"\n",
    "\n",
    "    def __init__(self, eta=0.05, n_iterations=1000):\n",
    "        self.eta = eta\n",
    "        self.n_iterations = n_iterations\n",
    "\n",
    "    def fit(self, x, y):\n",
    "        \"\"\"Fit the training data\n",
    "        Parameters\n",
    "        ----------\n",
    "        x : array-like, shape = [n_samples, n_features]\n",
    "            Training samples\n",
    "        y : array-like, shape = [n_samples, n_target_values]\n",
    "            Target values\n",
    "        Returns\n",
    "        -------\n",
    "        self : object\n",
    "        \"\"\"\n",
    "\n",
    "        self.cost_ = []\n",
    "        self.w_ = np.zeros((x.shape[1], 1))\n",
    "        m = x.shape[0]\n",
    "\n",
    "        for _ in range(self.n_iterations):\n",
    "            y_pred = np.dot(x, self.w_)\n",
    "            residuals = y_pred - y\n",
    "            gradient_vector = np.dot(x.T, residuals)\n",
    "            self.w_ -= (self.eta / m) * gradient_vector\n",
    "            cost = np.sum((residuals ** 2)) / (2 * m)\n",
    "            self.cost_.append(cost)\n",
    "        return self\n",
    "\n",
    "    def predict(self, x):\n",
    "        \"\"\" Predicts the value after the model has been trained.\n",
    "        Parameters\n",
    "        ----------\n",
    "        x : array-like, shape = [n_samples, n_features]\n",
    "            Test samples\n",
    "        Returns\n",
    "        -------\n",
    "        Predicted value\n",
    "        \"\"\"\n",
    "        return np.dot(x, self.w_)"
   ]
  },
  {
   "cell_type": "markdown",
   "metadata": {},
   "source": [
    "The model parameters are given below:\n",
    "\n",
    "> The coefficient is [2.89114079]\n",
    "\n",
    "> The intercept is [2.58109277]"
   ]
  },
  {
   "cell_type": "markdown",
   "metadata": {},
   "source": [
    "The plot of the best fit line"
   ]
  },
  {
   "cell_type": "markdown",
   "metadata": {},
   "source": [
    "<img src='./images/linear_7.png' width=\"500\">"
   ]
  },
  {
   "cell_type": "markdown",
   "metadata": {},
   "source": [
    "The plot of the cost function vs the number of iterations is given below. We can observe that the cost function decreases with each iteration initially and finally converges after nearly 100 iterations."
   ]
  },
  {
   "cell_type": "markdown",
   "metadata": {},
   "source": [
    "<img src='./images/linear_8.png' width=\"500\">"
   ]
  },
  {
   "cell_type": "markdown",
   "metadata": {},
   "source": [
    "Till now we have implemented linear regression from scratch and used gradient descent to find the model parameters. But how good is our model? We need some measure to calculate the accuracy of our model. Let’s look at various metrics to evaluate the model we built above."
   ]
  },
  {
   "cell_type": "markdown",
   "metadata": {},
   "source": [
    "### Evaluating the performance of the model"
   ]
  },
  {
   "cell_type": "markdown",
   "metadata": {},
   "source": [
    "We will be using Root mean squared error(RMSE) and Coefficient of Determination($R^2$  score) to evaluate our model."
   ]
  },
  {
   "cell_type": "markdown",
   "metadata": {},
   "source": [
    "RMSE is the square root of the average of the sum of the squares of residuals."
   ]
  },
  {
   "cell_type": "markdown",
   "metadata": {},
   "source": [
    "RMSE is defined by\n",
    "\n",
    "$RMSE = \\sqrt{\\frac{1}{N}\\sum\\limits_{i=1}^N(h(x^i) - y^i)^2}$"
   ]
  },
  {
   "cell_type": "markdown",
   "metadata": {},
   "source": [
    "$R^2$  score or the coefficient of determination explains how much the total variance of the dependent variable can be reduced by using the least square regression.\n",
    "\n",
    "$R^2$ is determined by\n",
    "\n",
    "$R^2 = 1 - \\frac{SS_r}{SS_T}$\n",
    "\n",
    "$SS_t$ is the total sum of errors if we take the mean of the observed values as the predicted value. \n",
    "\n",
    "$SS_t = \\sum\\limits_{i=1}^N(y^i - E(y))^2$ \n",
    "\n",
    "$SS_r$ is the sum of the square of residuals\n",
    "\n",
    "$SS_r = \\sum\\limits_{i=1}^N(h(x^i) - y^i)^2$"
   ]
  },
  {
   "cell_type": "code",
   "execution_count": 20,
   "metadata": {},
   "outputs": [],
   "source": [
    "# mse = np.sum((y_pred - y_actual)**2)\n",
    "\n",
    "# # root mean squared error\n",
    "# # m is the number of training examples\n",
    "# rmse = np.sqrt(mse/m)"
   ]
  },
  {
   "cell_type": "markdown",
   "metadata": {},
   "source": [
    "### Scikit-learn implementation"
   ]
  },
  {
   "cell_type": "markdown",
   "metadata": {},
   "source": [
    "sckit-learn is a very powerful library for data-science. The complete code is given below"
   ]
  },
  {
   "cell_type": "code",
   "execution_count": 21,
   "metadata": {},
   "outputs": [
    {
     "name": "stdout",
     "output_type": "stream",
     "text": [
      "Slope: [[2.93655106]]\n",
      "Intercept: [2.55808002]\n",
      "Root mean squared error:  0.07623324582875009\n",
      "R2 score:  0.9038655568672764\n"
     ]
    },
    {
     "data": {
      "text/plain": [
       "[<matplotlib.lines.Line2D at 0x1a172b9828>]"
      ]
     },
     "execution_count": 21,
     "metadata": {},
     "output_type": "execute_result"
    },
    {
     "data": {
      "image/png": "[encoded data removed]",
      "text/plain": [
       "<Figure size 432x288 with 1 Axes>"
      ]
     },
     "metadata": {},
     "output_type": "display_data"
    }
   ],
   "source": [
    "# imports\n",
    "import numpy as np\n",
    "import matplotlib.pyplot as plt\n",
    "from sklearn.linear_model import LinearRegression\n",
    "from sklearn.metrics import mean_squared_error, r2_score\n",
    "\n",
    "# generate random data-set\n",
    "np.random.seed(0)\n",
    "x = np.random.rand(100, 1)\n",
    "y = 2 + 3 * x + np.random.rand(100, 1)\n",
    "\n",
    "# sckit-learn implementation\n",
    "\n",
    "# Model initialization\n",
    "regression_model = LinearRegression()\n",
    "# Fit the data(train the model)\n",
    "regression_model.fit(x, y)\n",
    "# Predict\n",
    "y_predicted = regression_model.predict(x)\n",
    "\n",
    "# model evaluation\n",
    "rmse = mean_squared_error(y, y_predicted)\n",
    "r2 = r2_score(y, y_predicted)\n",
    "\n",
    "# printing values\n",
    "print('Slope:' ,regression_model.coef_)\n",
    "print('Intercept:', regression_model.intercept_)\n",
    "print('Root mean squared error: ', rmse)\n",
    "print('R2 score: ', r2)\n",
    "\n",
    "\n",
    "# plotting values\n",
    "\n",
    "# data points\n",
    "plt.scatter(x, y, s=10)\n",
    "plt.xlabel('x')\n",
    "plt.ylabel('y')\n",
    "\n",
    "# predicted values\n",
    "plt.plot(x, y_predicted, color='r')"
   ]
  },
  {
   "cell_type": "code",
   "execution_count": null,
   "metadata": {},
   "outputs": [],
   "source": []
  }
 ],
 "metadata": {
  "kernelspec": {
   "display_name": "Python 3",
   "language": "python",
   "name": "python3"
  },
  "language_info": {
   "codemirror_mode": {
    "name": "ipython",
    "version": 3
   },
   "file_extension": ".py",
   "mimetype": "text/x-python",
   "name": "python",
   "nbconvert_exporter": "python",
   "pygments_lexer": "ipython3",
   "version": "3.7.3"
  }
 },
 "nbformat": 4,
 "nbformat_minor": 2
}
